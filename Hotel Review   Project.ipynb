{
 "cells": [
  {
   "cell_type": "code",
   "execution_count": 1,
   "id": "9e21a05c",
   "metadata": {
    "tags": []
   },
   "outputs": [
    {
     "name": "stderr",
     "output_type": "stream",
     "text": [
      "[nltk_data] Downloading package punkt to\n",
      "[nltk_data]     C:\\Users\\HP\\AppData\\Roaming\\nltk_data...\n",
      "[nltk_data]   Package punkt is already up-to-date!\n",
      "[nltk_data] Downloading package stopwords to\n",
      "[nltk_data]     C:\\Users\\HP\\AppData\\Roaming\\nltk_data...\n",
      "[nltk_data]   Package stopwords is already up-to-date!\n",
      "[nltk_data] Downloading package wordnet to\n",
      "[nltk_data]     C:\\Users\\HP\\AppData\\Roaming\\nltk_data...\n",
      "[nltk_data]   Package wordnet is already up-to-date!\n",
      "[nltk_data] Downloading package omw-1.4 to\n",
      "[nltk_data]     C:\\Users\\HP\\AppData\\Roaming\\nltk_data...\n",
      "[nltk_data]   Package omw-1.4 is already up-to-date!\n"
     ]
    }
   ],
   "source": [
    "import pandas as pd\n",
    "import nltk\n",
    "nltk.download('punkt')\n",
    "nltk.download('stopwords')\n",
    "nltk.download('wordnet')\n",
    "nltk.download('omw-1.4')\n",
    "from nltk.stem import PorterStemmer , WordNetLemmatizer\n",
    "from nltk.corpus import stopwords\n",
    "import re\n",
    "from nltk.tokenize import word_tokenize\n",
    "from sklearn.feature_extraction.text import CountVectorizer\n",
    "from wordcloud import WordCloud\n",
    "import matplotlib.pyplot as plt"
   ]
  },
  {
   "cell_type": "code",
   "execution_count": 2,
   "id": "c67e0290",
   "metadata": {
    "tags": []
   },
   "outputs": [],
   "source": [
    "data = pd.read_excel('hotel_reviews (1).xlsx')"
   ]
  },
  {
   "cell_type": "code",
   "execution_count": 3,
   "id": "4f928984",
   "metadata": {
    "tags": []
   },
   "outputs": [
    {
     "data": {
      "text/html": [
       "<div>\n",
       "<style scoped>\n",
       "    .dataframe tbody tr th:only-of-type {\n",
       "        vertical-align: middle;\n",
       "    }\n",
       "\n",
       "    .dataframe tbody tr th {\n",
       "        vertical-align: top;\n",
       "    }\n",
       "\n",
       "    .dataframe thead th {\n",
       "        text-align: right;\n",
       "    }\n",
       "</style>\n",
       "<table border=\"1\" class=\"dataframe\">\n",
       "  <thead>\n",
       "    <tr style=\"text-align: right;\">\n",
       "      <th></th>\n",
       "      <th>Review</th>\n",
       "      <th>Rating</th>\n",
       "    </tr>\n",
       "  </thead>\n",
       "  <tbody>\n",
       "    <tr>\n",
       "      <th>0</th>\n",
       "      <td>nice hotel expensive parking got good deal sta...</td>\n",
       "      <td>4</td>\n",
       "    </tr>\n",
       "    <tr>\n",
       "      <th>1</th>\n",
       "      <td>ok nothing special charge diamond member hilto...</td>\n",
       "      <td>2</td>\n",
       "    </tr>\n",
       "    <tr>\n",
       "      <th>2</th>\n",
       "      <td>nice rooms not 4* experience hotel monaco seat...</td>\n",
       "      <td>3</td>\n",
       "    </tr>\n",
       "    <tr>\n",
       "      <th>3</th>\n",
       "      <td>unique, great stay, wonderful time hotel monac...</td>\n",
       "      <td>5</td>\n",
       "    </tr>\n",
       "    <tr>\n",
       "      <th>4</th>\n",
       "      <td>great stay great stay, went seahawk game aweso...</td>\n",
       "      <td>5</td>\n",
       "    </tr>\n",
       "    <tr>\n",
       "      <th>...</th>\n",
       "      <td>...</td>\n",
       "      <td>...</td>\n",
       "    </tr>\n",
       "    <tr>\n",
       "      <th>20486</th>\n",
       "      <td>best kept secret 3rd time staying charm, not 5...</td>\n",
       "      <td>5</td>\n",
       "    </tr>\n",
       "    <tr>\n",
       "      <th>20487</th>\n",
       "      <td>great location price view hotel great quick pl...</td>\n",
       "      <td>4</td>\n",
       "    </tr>\n",
       "    <tr>\n",
       "      <th>20488</th>\n",
       "      <td>ok just looks nice modern outside, desk staff ...</td>\n",
       "      <td>2</td>\n",
       "    </tr>\n",
       "    <tr>\n",
       "      <th>20489</th>\n",
       "      <td>hotel theft ruined vacation hotel opened sept ...</td>\n",
       "      <td>1</td>\n",
       "    </tr>\n",
       "    <tr>\n",
       "      <th>20490</th>\n",
       "      <td>people talking, ca n't believe excellent ratin...</td>\n",
       "      <td>2</td>\n",
       "    </tr>\n",
       "  </tbody>\n",
       "</table>\n",
       "<p>20491 rows × 2 columns</p>\n",
       "</div>"
      ],
      "text/plain": [
       "                                                  Review  Rating\n",
       "0      nice hotel expensive parking got good deal sta...       4\n",
       "1      ok nothing special charge diamond member hilto...       2\n",
       "2      nice rooms not 4* experience hotel monaco seat...       3\n",
       "3      unique, great stay, wonderful time hotel monac...       5\n",
       "4      great stay great stay, went seahawk game aweso...       5\n",
       "...                                                  ...     ...\n",
       "20486  best kept secret 3rd time staying charm, not 5...       5\n",
       "20487  great location price view hotel great quick pl...       4\n",
       "20488  ok just looks nice modern outside, desk staff ...       2\n",
       "20489  hotel theft ruined vacation hotel opened sept ...       1\n",
       "20490  people talking, ca n't believe excellent ratin...       2\n",
       "\n",
       "[20491 rows x 2 columns]"
      ]
     },
     "execution_count": 3,
     "metadata": {},
     "output_type": "execute_result"
    }
   ],
   "source": [
    "data"
   ]
  },
  {
   "cell_type": "code",
   "execution_count": 4,
   "id": "f188cdf4",
   "metadata": {
    "tags": []
   },
   "outputs": [
    {
     "data": {
      "text/html": [
       "<div>\n",
       "<style scoped>\n",
       "    .dataframe tbody tr th:only-of-type {\n",
       "        vertical-align: middle;\n",
       "    }\n",
       "\n",
       "    .dataframe tbody tr th {\n",
       "        vertical-align: top;\n",
       "    }\n",
       "\n",
       "    .dataframe thead th {\n",
       "        text-align: right;\n",
       "    }\n",
       "</style>\n",
       "<table border=\"1\" class=\"dataframe\">\n",
       "  <thead>\n",
       "    <tr style=\"text-align: right;\">\n",
       "      <th></th>\n",
       "      <th>Review</th>\n",
       "      <th>Rating</th>\n",
       "    </tr>\n",
       "  </thead>\n",
       "  <tbody>\n",
       "    <tr>\n",
       "      <th>0</th>\n",
       "      <td>nice hotel expensive parking got good deal sta...</td>\n",
       "      <td>4</td>\n",
       "    </tr>\n",
       "    <tr>\n",
       "      <th>1</th>\n",
       "      <td>ok nothing special charge diamond member hilto...</td>\n",
       "      <td>2</td>\n",
       "    </tr>\n",
       "    <tr>\n",
       "      <th>2</th>\n",
       "      <td>nice rooms not 4* experience hotel monaco seat...</td>\n",
       "      <td>3</td>\n",
       "    </tr>\n",
       "    <tr>\n",
       "      <th>3</th>\n",
       "      <td>unique, great stay, wonderful time hotel monac...</td>\n",
       "      <td>5</td>\n",
       "    </tr>\n",
       "    <tr>\n",
       "      <th>4</th>\n",
       "      <td>great stay great stay, went seahawk game aweso...</td>\n",
       "      <td>5</td>\n",
       "    </tr>\n",
       "  </tbody>\n",
       "</table>\n",
       "</div>"
      ],
      "text/plain": [
       "                                              Review  Rating\n",
       "0  nice hotel expensive parking got good deal sta...       4\n",
       "1  ok nothing special charge diamond member hilto...       2\n",
       "2  nice rooms not 4* experience hotel monaco seat...       3\n",
       "3  unique, great stay, wonderful time hotel monac...       5\n",
       "4  great stay great stay, went seahawk game aweso...       5"
      ]
     },
     "execution_count": 4,
     "metadata": {},
     "output_type": "execute_result"
    }
   ],
   "source": [
    "data.head()"
   ]
  },
  {
   "cell_type": "code",
   "execution_count": 5,
   "id": "9c91ee1a",
   "metadata": {
    "tags": []
   },
   "outputs": [
    {
     "data": {
      "text/html": [
       "<div>\n",
       "<style scoped>\n",
       "    .dataframe tbody tr th:only-of-type {\n",
       "        vertical-align: middle;\n",
       "    }\n",
       "\n",
       "    .dataframe tbody tr th {\n",
       "        vertical-align: top;\n",
       "    }\n",
       "\n",
       "    .dataframe thead th {\n",
       "        text-align: right;\n",
       "    }\n",
       "</style>\n",
       "<table border=\"1\" class=\"dataframe\">\n",
       "  <thead>\n",
       "    <tr style=\"text-align: right;\">\n",
       "      <th></th>\n",
       "      <th>Review</th>\n",
       "      <th>Rating</th>\n",
       "    </tr>\n",
       "  </thead>\n",
       "  <tbody>\n",
       "    <tr>\n",
       "      <th>20486</th>\n",
       "      <td>best kept secret 3rd time staying charm, not 5...</td>\n",
       "      <td>5</td>\n",
       "    </tr>\n",
       "    <tr>\n",
       "      <th>20487</th>\n",
       "      <td>great location price view hotel great quick pl...</td>\n",
       "      <td>4</td>\n",
       "    </tr>\n",
       "    <tr>\n",
       "      <th>20488</th>\n",
       "      <td>ok just looks nice modern outside, desk staff ...</td>\n",
       "      <td>2</td>\n",
       "    </tr>\n",
       "    <tr>\n",
       "      <th>20489</th>\n",
       "      <td>hotel theft ruined vacation hotel opened sept ...</td>\n",
       "      <td>1</td>\n",
       "    </tr>\n",
       "    <tr>\n",
       "      <th>20490</th>\n",
       "      <td>people talking, ca n't believe excellent ratin...</td>\n",
       "      <td>2</td>\n",
       "    </tr>\n",
       "  </tbody>\n",
       "</table>\n",
       "</div>"
      ],
      "text/plain": [
       "                                                  Review  Rating\n",
       "20486  best kept secret 3rd time staying charm, not 5...       5\n",
       "20487  great location price view hotel great quick pl...       4\n",
       "20488  ok just looks nice modern outside, desk staff ...       2\n",
       "20489  hotel theft ruined vacation hotel opened sept ...       1\n",
       "20490  people talking, ca n't believe excellent ratin...       2"
      ]
     },
     "execution_count": 5,
     "metadata": {},
     "output_type": "execute_result"
    }
   ],
   "source": [
    "data.tail()"
   ]
  },
  {
   "cell_type": "code",
   "execution_count": 6,
   "id": "5c90008e",
   "metadata": {
    "tags": []
   },
   "outputs": [
    {
     "data": {
      "text/plain": [
       "(20491, 2)"
      ]
     },
     "execution_count": 6,
     "metadata": {},
     "output_type": "execute_result"
    }
   ],
   "source": [
    "data.shape"
   ]
  },
  {
   "cell_type": "code",
   "execution_count": 13,
   "id": "93d0a11c",
   "metadata": {
    "tags": []
   },
   "outputs": [
    {
     "data": {
      "text/html": [
       "<div>\n",
       "<style scoped>\n",
       "    .dataframe tbody tr th:only-of-type {\n",
       "        vertical-align: middle;\n",
       "    }\n",
       "\n",
       "    .dataframe tbody tr th {\n",
       "        vertical-align: top;\n",
       "    }\n",
       "\n",
       "    .dataframe thead th {\n",
       "        text-align: right;\n",
       "    }\n",
       "</style>\n",
       "<table border=\"1\" class=\"dataframe\">\n",
       "  <thead>\n",
       "    <tr style=\"text-align: right;\">\n",
       "      <th></th>\n",
       "      <th>Rating</th>\n",
       "    </tr>\n",
       "  </thead>\n",
       "  <tbody>\n",
       "    <tr>\n",
       "      <th>count</th>\n",
       "      <td>20491.000000</td>\n",
       "    </tr>\n",
       "    <tr>\n",
       "      <th>mean</th>\n",
       "      <td>3.952223</td>\n",
       "    </tr>\n",
       "    <tr>\n",
       "      <th>std</th>\n",
       "      <td>1.233030</td>\n",
       "    </tr>\n",
       "    <tr>\n",
       "      <th>min</th>\n",
       "      <td>1.000000</td>\n",
       "    </tr>\n",
       "    <tr>\n",
       "      <th>25%</th>\n",
       "      <td>3.000000</td>\n",
       "    </tr>\n",
       "    <tr>\n",
       "      <th>50%</th>\n",
       "      <td>4.000000</td>\n",
       "    </tr>\n",
       "    <tr>\n",
       "      <th>75%</th>\n",
       "      <td>5.000000</td>\n",
       "    </tr>\n",
       "    <tr>\n",
       "      <th>max</th>\n",
       "      <td>5.000000</td>\n",
       "    </tr>\n",
       "  </tbody>\n",
       "</table>\n",
       "</div>"
      ],
      "text/plain": [
       "             Rating\n",
       "count  20491.000000\n",
       "mean       3.952223\n",
       "std        1.233030\n",
       "min        1.000000\n",
       "25%        3.000000\n",
       "50%        4.000000\n",
       "75%        5.000000\n",
       "max        5.000000"
      ]
     },
     "execution_count": 13,
     "metadata": {},
     "output_type": "execute_result"
    }
   ],
   "source": [
    "data.describe()"
   ]
  },
  {
   "cell_type": "code",
   "execution_count": 14,
   "id": "e949271d",
   "metadata": {
    "tags": []
   },
   "outputs": [
    {
     "name": "stderr",
     "output_type": "stream",
     "text": [
      "C:\\Users\\HP\\AppData\\Local\\Temp\\ipykernel_18140\\1345314459.py:1: FutureWarning: The default value of numeric_only in DataFrame.corr is deprecated. In a future version, it will default to False. Select only valid columns or specify the value of numeric_only to silence this warning.\n",
      "  corr=data.corr()\n"
     ]
    },
    {
     "data": {
      "text/html": [
       "<div>\n",
       "<style scoped>\n",
       "    .dataframe tbody tr th:only-of-type {\n",
       "        vertical-align: middle;\n",
       "    }\n",
       "\n",
       "    .dataframe tbody tr th {\n",
       "        vertical-align: top;\n",
       "    }\n",
       "\n",
       "    .dataframe thead th {\n",
       "        text-align: right;\n",
       "    }\n",
       "</style>\n",
       "<table border=\"1\" class=\"dataframe\">\n",
       "  <thead>\n",
       "    <tr style=\"text-align: right;\">\n",
       "      <th></th>\n",
       "      <th>Rating</th>\n",
       "    </tr>\n",
       "  </thead>\n",
       "  <tbody>\n",
       "    <tr>\n",
       "      <th>Rating</th>\n",
       "      <td>1.0</td>\n",
       "    </tr>\n",
       "  </tbody>\n",
       "</table>\n",
       "</div>"
      ],
      "text/plain": [
       "        Rating\n",
       "Rating     1.0"
      ]
     },
     "execution_count": 14,
     "metadata": {},
     "output_type": "execute_result"
    }
   ],
   "source": [
    "\n",
    "corr=data.corr()\n",
    "\n",
    "corr"
   ]
  },
  {
   "cell_type": "code",
   "execution_count": 15,
   "id": "38fe35f4",
   "metadata": {
    "tags": []
   },
   "outputs": [
    {
     "data": {
      "text/plain": [
       "5    9054\n",
       "4    6039\n",
       "3    2184\n",
       "2    1793\n",
       "1    1421\n",
       "Name: Rating, dtype: int64"
      ]
     },
     "execution_count": 15,
     "metadata": {},
     "output_type": "execute_result"
    }
   ],
   "source": [
    "data['Rating'].value_counts()\n"
   ]
  },
  {
   "cell_type": "code",
   "execution_count": 7,
   "id": "46c92678",
   "metadata": {
    "tags": []
   },
   "outputs": [],
   "source": [
    "data_neg = data.loc[data[\"Rating\"]<3]\n",
    "data_neg = data_neg.reset_index(drop = True)"
   ]
  },
  {
   "cell_type": "code",
   "execution_count": 8,
   "id": "ceeece24",
   "metadata": {
    "tags": []
   },
   "outputs": [],
   "source": [
    "data_five = data.loc[data['Rating'] == 5]\n",
    "data_five = data_five.reset_index(drop = True)"
   ]
  },
  {
   "cell_type": "code",
   "execution_count": 9,
   "id": "025c7a47",
   "metadata": {
    "tags": []
   },
   "outputs": [],
   "source": [
    "data_pos = data_five.loc[:len(data_neg)]"
   ]
  },
  {
   "cell_type": "code",
   "execution_count": 10,
   "id": "83ef21f6",
   "metadata": {
    "tags": []
   },
   "outputs": [],
   "source": [
    "data_all = pd.concat([data_neg,data_pos], axis = 0)\n",
    "data_all = data_all.reset_index(drop = True)"
   ]
  },
  {
   "cell_type": "code",
   "execution_count": 11,
   "id": "daefa050",
   "metadata": {
    "tags": []
   },
   "outputs": [
    {
     "data": {
      "text/plain": [
       "6429"
      ]
     },
     "execution_count": 11,
     "metadata": {},
     "output_type": "execute_result"
    }
   ],
   "source": [
    "len(data_all)"
   ]
  },
  {
   "cell_type": "code",
   "execution_count": 12,
   "id": "197c952d",
   "metadata": {
    "tags": []
   },
   "outputs": [],
   "source": [
    "# Tokenize the 'reviews' column and create a new column 'tokenized_reviews'\n",
    "data['tokenized_Review'] = data['Review'].apply(lambda x: word_tokenize(str(x)))"
   ]
  },
  {
   "cell_type": "code",
   "execution_count": 13,
   "id": "360735c3",
   "metadata": {
    "tags": []
   },
   "outputs": [
    {
     "name": "stdout",
     "output_type": "stream",
     "text": [
      "                                                  Review  \\\n",
      "0      nice hotel expensive parking got good deal sta...   \n",
      "1      ok nothing special charge diamond member hilto...   \n",
      "2      nice rooms not 4* experience hotel monaco seat...   \n",
      "3      unique, great stay, wonderful time hotel monac...   \n",
      "4      great stay great stay, went seahawk game aweso...   \n",
      "...                                                  ...   \n",
      "20486  best kept secret 3rd time staying charm, not 5...   \n",
      "20487  great location price view hotel great quick pl...   \n",
      "20488  ok just looks nice modern outside, desk staff ...   \n",
      "20489  hotel theft ruined vacation hotel opened sept ...   \n",
      "20490  people talking, ca n't believe excellent ratin...   \n",
      "\n",
      "                                        tokenized_Review  \n",
      "0      [nice, hotel, expensive, parking, got, good, d...  \n",
      "1      [ok, nothing, special, charge, diamond, member...  \n",
      "2      [nice, rooms, not, 4, *, experience, hotel, mo...  \n",
      "3      [unique, ,, great, stay, ,, wonderful, time, h...  \n",
      "4      [great, stay, great, stay, ,, went, seahawk, g...  \n",
      "...                                                  ...  \n",
      "20486  [best, kept, secret, 3rd, time, staying, charm...  \n",
      "20487  [great, location, price, view, hotel, great, q...  \n",
      "20488  [ok, just, looks, nice, modern, outside, ,, de...  \n",
      "20489  [hotel, theft, ruined, vacation, hotel, opened...  \n",
      "20490  [people, talking, ,, ca, n't, believe, excelle...  \n",
      "\n",
      "[20491 rows x 2 columns]\n"
     ]
    }
   ],
   "source": [
    "# Display the first few rows of the DataFrame including the new column\n",
    "print(data[['Review', 'tokenized_Review']])\n"
   ]
  },
  {
   "cell_type": "code",
   "execution_count": 14,
   "id": "8784ec7a",
   "metadata": {
    "tags": []
   },
   "outputs": [],
   "source": [
    "from nltk.corpus import stopwords\n",
    "corpus = []\n",
    "for i in range(0, 20491):  # 20491 reviews rows to clean\n",
    "    Review = re.sub('[^a-zA-Z]', ' ', data['Review'][i])\n",
    "    Review = Review.lower()  # Convert all cases to lower cases\n",
    "    Review = Review.split( )  # Split to array (default delimiter is \"\")\n",
    "    ps = PorterStemmer()\n",
    "    Review = [ps.stem(word) for word in Review if not word in set(stopwords.words('english'))]\n",
    "    Review = ' '.join(Review)\n",
    "    corpus.append(Review)"
   ]
  },
  {
   "cell_type": "code",
   "execution_count": null,
   "id": "4f4785e4",
   "metadata": {
    "tags": []
   },
   "outputs": [],
   "source": [
    "corpus"
   ]
  },
  {
   "cell_type": "code",
   "execution_count": 34,
   "id": "4b2a7b42",
   "metadata": {
    "tags": []
   },
   "outputs": [
    {
     "name": "stdout",
     "output_type": "stream",
     "text": [
      "['nice hotel expens park got good deal stay hotel anniversari arriv late even took advic previou review valet park check quick easi littl disappoint non exist view room room clean nice size bed comfort woke stiff neck high pillow soundproof like heard music room night morn loud bang door open close hear peopl talk hallway mayb noisi neighbor aveda bath product nice goldfish stay nice touch taken advantag stay longer locat great walk distanc shop overal nice experi pay park night', 'ok noth special charg diamond member hilton decid chain shot th anniversari seattl start book suit paid extra websit descript suit bedroom bathroom standard hotel room took print reserv desk show said thing like tv couch ect desk clerk told oh mix suit descript kimpton websit sorri free breakfast got kid embassi suit sit room bathroom bedroom unlik kimpton call suit day stay offer correct fals advertis send kimpton prefer guest websit email ask failur provid suit advertis websit reserv descript furnish hard copi reserv printout websit desk manag duti repli solut send email trip guest survey follow email mail guess tell concern guest staff rang indiffer help ask desk good breakfast spot neighborhood hood told hotel gee best breakfast spot seattl block away conveni hotel know exist arriv late night pm insid run bellman busi chate cell phone help bag prior arriv email hotel inform th anniversari half realli picki want make sure good got nice email say like deliv bottl champagn chocol cover strawberri room arriv celebr told need foam pillow arriv champagn strawberri foam pillow great room view alley high rise build good better housekeep staff cleaner room properti impress left morn shop room got short trip hour bed comfort good ac heat control x inch screen bring green shine directli eye night light sensit tape control start hotel clean busi hotel super high rate better chain hotel seattl', 'nice room experi hotel monaco seattl good hotel n level posit larg bathroom mediterranean suit comfort bed pillowsattent housekeep staffneg ac unit malfunct stay desk disorgan miss separ wakeup call concierg busi hard touch n provid guidanc special request tv hard use ipod sound dock suit non function decid book mediterranean suit night weekend stay st choic rest parti fill comparison w spent night larger squar footag room great soak tub whirlpool jet nice shower stay hotel arrang car servic price tip reason driver wait arriv checkin easi downsid room pick person jacuzi tub bath accessori salt bubbl bath n stay night got check voucher bottl champagn nice gestur fish wait room impress room huge open space felt room big tv far away bed chore chang channel ipod dock broken disappoint morn way ask desk check thermostat said f degre warm tri cover face night bright blue light kept got room night st drop desk call maintain came look thermostat told play set happi digit box wo n work ask wakeup morn n happen call later pm nap wakeup forgot wakeup morn yep forgotten bathroom facil great room surpris room sold whirlpool bath tub n bath amen great relax water jet go', 'uniqu great stay wonder time hotel monaco locat excel short stroll main downtown shop area pet friendli room show sign anim hair smell monaco suit sleep area big stripe curtain pull close nice touch felt cosi goldfish name brandi enjoy n partak free wine coffe tea servic lobbi thought great featur great staff friendli free wireless internet hotel work suit laptop decor love eclect mix patten color palatt anim print bathrob feel like rock star nice n look like steril chain hotel hotel person excel stay', 'great stay great stay went seahawk game awesom downfal view build n complain room huge staff help book hotel websit seahawk packag charg park got voucher taxi problem taxi driver n want accept voucher bare spoke english funni thing speak arab call start make comment girlfriend cell phone buddi took second realiz said fact speak languag face priceless ass told said larg citi told head doorman issu call cab compani prompli answer n apolog offer pay taxi buck mile stadium game plan taxi return go humpin great walk n mind right christma wonder light homeless stow away build entranc leav polic presenc greatest area stadium activ block pike street waterfront great coffe shop way hotel mantain foyer awesom wine tast avail even best dog take st bernard time famili safe hotel locat servic desk room bathroom huge jet tub huge funni hous keep walk girlfriend get dress n hear knock turn servic scream girlfriend scream hit floor laugh start talk spanish work place recommend price check onlin deal good better besit contain deal voucher travel websit n tell']\n"
     ]
    }
   ],
   "source": [
    "print(corpus[:5])"
   ]
  },
  {
   "cell_type": "code",
   "execution_count": null,
   "id": "f58f14da",
   "metadata": {
    "tags": []
   },
   "outputs": [],
   "source": [
    "data['processed_Review'] = corpus\n",
    "print(data[['Review', 'processed_Review', 'Rating']])"
   ]
  },
  {
   "cell_type": "markdown",
   "id": "dea4613e-436d-4ddf-a396-ffff307ea272",
   "metadata": {
    "tags": []
   },
   "source": [
    "**Stemming & Lemmatization**"
   ]
  },
  {
   "cell_type": "code",
   "execution_count": null,
   "id": "1dc580ba",
   "metadata": {
    "tags": []
   },
   "outputs": [],
   "source": [
    "#stemming and lemmatization\n",
    "ps = PorterStemmer()\n",
    "lemmatizer = WordNetLemmatizer()\n",
    "\n",
    "data['stemming_result'] = data['Review'].apply(lambda x: ' '.join([ps.stem(word) for word in x.lower().split() if word not in set(stopwords.words('english'))]))\n",
    "data['lemmatization_result'] = data['Review'].apply(lambda x: ' '.join([lemmatizer.lemmatize(word) for word in x.lower().split() if word not in set(stopwords.words('english'))]))\n",
    "\n",
    "print(data[['Review', 'stemming_result', 'lemmatization_result']])"
   ]
  },
  {
   "cell_type": "markdown",
   "id": "9c083d00-2361-4b35-859d-16dbae481a28",
   "metadata": {
    "tags": []
   },
   "source": [
    "**Bag Of Words**"
   ]
  },
  {
   "cell_type": "code",
   "execution_count": null,
   "id": "ae07029a",
   "metadata": {
    "tags": []
   },
   "outputs": [],
   "source": [
    "# Bag of Words\n",
    "vectorizer = CountVectorizer()\n",
    "X = vectorizer.fit_transform(data['Review'])\n",
    "\n",
    "bow_data = pd.DataFrame(X.toarray(), columns=vectorizer.get_feature_names_out())\n",
    "final_data = pd.concat([data[['Review', 'Rating']], bow_data], axis=1)\n",
    "print(final_data)\n"
   ]
  },
  {
   "cell_type": "code",
   "execution_count": null,
   "id": "8ad6b13d",
   "metadata": {
    "tags": []
   },
   "outputs": [],
   "source": [
    "from sklearn.feature_extraction.text import TfidfVectorizer\n",
    "tf = TfidfVectorizer()\n",
    "x= tf.fit_transform(corpus)"
   ]
  },
  {
   "cell_type": "code",
   "execution_count": null,
   "id": "58739984",
   "metadata": {
    "tags": []
   },
   "outputs": [],
   "source": [
    "x.toarray()"
   ]
  },
  {
   "cell_type": "code",
   "execution_count": null,
   "id": "8201c433",
   "metadata": {
    "tags": []
   },
   "outputs": [],
   "source": [
    "tf = TfidfVectorizer(max_features=5000)  # Adjust the number based on your available memory\n"
   ]
  },
  {
   "cell_type": "code",
   "execution_count": null,
   "id": "f9f4c045",
   "metadata": {
    "tags": []
   },
   "outputs": [],
   "source": [
    "x_sparse = tf.fit_transform(corpus)\n"
   ]
  },
  {
   "cell_type": "code",
   "execution_count": null,
   "id": "8c91f45a",
   "metadata": {
    "tags": []
   },
   "outputs": [],
   "source": [
    "tfidf_array = x.toarray()"
   ]
  },
  {
   "cell_type": "markdown",
   "id": "cc821b86-eae4-4e93-894e-3b7aed6920dc",
   "metadata": {},
   "source": [
    "**WordCloud**"
   ]
  },
  {
   "cell_type": "code",
   "execution_count": null,
   "id": "50625073",
   "metadata": {
    "tags": []
   },
   "outputs": [],
   "source": [
    "# Word Cloud\n",
    "corpus = data['processed_Review'].values\n",
    "text = ' '.join(corpus)\n",
    "wordcloud = WordCloud(width=800, height=400, background_color='white').generate(text)\n",
    "plt.figure(figsize=(10, 5))\n",
    "plt.imshow(wordcloud, interpolation='bilinear')\n",
    "plt.axis('off')\n",
    "plt.show()\n",
    "\n"
   ]
  },
  {
   "cell_type": "markdown",
   "id": "89e1eb31",
   "metadata": {},
   "source": [
    "**NER**"
   ]
  },
  {
   "cell_type": "code",
   "execution_count": null,
   "id": "148a3066",
   "metadata": {
    "tags": []
   },
   "outputs": [],
   "source": [
    "!pip install spacy\n"
   ]
  },
  {
   "cell_type": "code",
   "execution_count": null,
   "id": "863312dc",
   "metadata": {
    "tags": []
   },
   "outputs": [],
   "source": [
    "!python -m spacy download en_core_web_sm"
   ]
  },
  {
   "cell_type": "code",
   "execution_count": null,
   "id": "eedcc22b",
   "metadata": {
    "tags": []
   },
   "outputs": [],
   "source": [
    "import spacy\n",
    "from spacy import displacy\n",
    "import pandas as pd"
   ]
  },
  {
   "cell_type": "code",
   "execution_count": null,
   "id": "7077209e",
   "metadata": {
    "tags": []
   },
   "outputs": [],
   "source": [
    "import pandas as pd\n",
    "\n",
    "# Specify the file path\n",
    "file_path = \"hotel_reviews (1).xlsx\"\n",
    "\n",
    "try:\n",
    "    # Try to read the Excel file\n",
    "    data = pd.read_excel(file_path)\n",
    "except Exception as e:\n",
    "    # Handle the exception, print an error message, or take appropriate action\n",
    "    print(f\"An error occurred: {e}\")\n",
    "    # You can also choose to assign an empty DataFrame or None to 'data' in case of an error\n",
    "    data = pd.DataFrame()\n",
    "\n",
    "# Now you can check if 'data' is empty or contains your DataFrame\n",
    "if not data.empty:\n",
    "    print(data.head())\n",
    "else:\n",
    "    print(\"Data is empty or an error occurred during reading.\")\n"
   ]
  },
  {
   "cell_type": "code",
   "execution_count": null,
   "id": "fa1be7c5",
   "metadata": {
    "tags": []
   },
   "outputs": [],
   "source": [
    "nlp = spacy.load('en_core_web_sm')"
   ]
  },
  {
   "cell_type": "code",
   "execution_count": null,
   "id": "e6ca0c36",
   "metadata": {
    "tags": []
   },
   "outputs": [],
   "source": [
    "nlp.pipe_names"
   ]
  },
  {
   "cell_type": "code",
   "execution_count": null,
   "id": "3a218782",
   "metadata": {
    "tags": []
   },
   "outputs": [],
   "source": [
    "#NER \n",
    "doc = nlp(\"nice hotel expensive parking got good deal stay hotel anniversary, arrived late evening took advice previous reviews did valet parking, check quick easy, little disappointed non-existent view room room clean nice size, bed comfortable woke stiff neck high pillows, not soundproof like heard music room night morning loud bangs doors opening closing hear people talking hallway, maybe just noisy neighbors, aveda bath products nice, did not goldfish stay nice touch taken advantage staying longer, location great walking distance shopping, overall nice experience having pay 40 parking night\")"
   ]
  },
  {
   "cell_type": "code",
   "execution_count": null,
   "id": "fde21efb",
   "metadata": {
    "tags": []
   },
   "outputs": [],
   "source": [
    "doc.ents     #Display all entities"
   ]
  },
  {
   "cell_type": "code",
   "execution_count": null,
   "id": "e10b5e80",
   "metadata": {
    "tags": []
   },
   "outputs": [],
   "source": [
    "for i in doc.ents:\n",
    "    print(i, '|' , i.label_)"
   ]
  },
  {
   "cell_type": "code",
   "execution_count": null,
   "id": "0e931dce",
   "metadata": {
    "tags": []
   },
   "outputs": [],
   "source": [
    "#Spacy library is not 100% precise"
   ]
  },
  {
   "cell_type": "code",
   "execution_count": null,
   "id": "c1579006",
   "metadata": {
    "tags": []
   },
   "outputs": [],
   "source": [
    "#to display graphical representation for tags\n",
    "displacy.render(doc,style='ent',jupyter=True)"
   ]
  },
  {
   "cell_type": "code",
   "execution_count": null,
   "id": "809b43ba",
   "metadata": {
    "tags": []
   },
   "outputs": [],
   "source": [
    "for index, row in data.iterrows():\n",
    "    review_text = row['Review']\n",
    "    doc = nlp(review_text)\n",
    "    # Display named entities for each review\n",
    "    print(f\"Entities for Review {index + 1}:\")\n",
    "    for ent in doc.ents:\n",
    "        print(ent.text, '|', ent.label_)\n",
    "\n",
    "    # Display graphical representation for named entities\n",
    "    displacy.render(doc, style='ent', jupyter=True)"
   ]
  },
  {
   "cell_type": "markdown",
   "id": "b244bd97-4891-48b8-8c23-3274bba9f8ad",
   "metadata": {},
   "source": [
    "**Sentiment**"
   ]
  },
  {
   "cell_type": "code",
   "execution_count": 6,
   "id": "12f48fb5-e37b-4a92-9183-396963cac1e2",
   "metadata": {
    "tags": []
   },
   "outputs": [
    {
     "name": "stdout",
     "output_type": "stream",
     "text": [
      "Collecting TextBlob\n",
      "  Downloading textblob-0.17.1-py2.py3-none-any.whl (636 kB)\n",
      "                                              0.0/636.8 kB ? eta -:--:--\n",
      "     ------------                           204.8/636.8 kB 4.1 MB/s eta 0:00:01\n",
      "     ----------------------------           471.0/636.8 kB 5.9 MB/s eta 0:00:01\n",
      "     -------------------------------------- 636.8/636.8 kB 5.7 MB/s eta 0:00:00\n",
      "Requirement already satisfied: nltk>=3.1 in e:\\anaconda\\lib\\site-packages (from TextBlob) (3.7)\n",
      "Requirement already satisfied: click in e:\\anaconda\\lib\\site-packages (from nltk>=3.1->TextBlob) (8.0.4)\n",
      "Requirement already satisfied: joblib in e:\\anaconda\\lib\\site-packages (from nltk>=3.1->TextBlob) (1.1.1)\n",
      "Requirement already satisfied: regex>=2021.8.3 in e:\\anaconda\\lib\\site-packages (from nltk>=3.1->TextBlob) (2022.7.9)\n",
      "Requirement already satisfied: tqdm in e:\\anaconda\\lib\\site-packages (from nltk>=3.1->TextBlob) (4.65.0)\n",
      "Requirement already satisfied: colorama in e:\\anaconda\\lib\\site-packages (from click->nltk>=3.1->TextBlob) (0.4.6)\n",
      "Installing collected packages: TextBlob\n",
      "Successfully installed TextBlob-0.17.1\n"
     ]
    }
   ],
   "source": [
    "!pip install TextBlob"
   ]
  },
  {
   "cell_type": "markdown",
   "id": "45c4685c-d1d8-412c-8eda-b6a8951ed0bf",
   "metadata": {
    "tags": []
   },
   "source": [
    "import pandas as pd\n",
    "from textblob import TextBlob\n",
    "data = pd.read_excel(\"hotel_reviews (1).xlsx\")\n",
    "\n",
    "# Function to generate sentiment labels using TextBlob and ratings\n",
    "def get_sentiment(review, rating):\n",
    "    polarity = TextBlob(review).sentiment.polarity\n",
    "    if rating <= 3:\n",
    "        if polarity >= 0:\n",
    "            return 'Negative'\n",
    "        else:\n",
    "            return 'Positive'\n",
    "    else:\n",
    "        if polarity >= 0:\n",
    "            return 'Positive'\n",
    "        else:\n",
    "            return 'Negative'\n",
    "\n",
    "# Apply sentiment analysis to the 'Review' column\n",
    "data['Sentiment'] = data.apply(lambda x: get_sentiment(x['Review'], x['Rating']), axis=1)\n",
    "\n",
    "# Print the first few rows to verify\n",
    "print(data.head(10))\n"
   ]
  },
  {
   "cell_type": "markdown",
   "id": "e9f75308-3c74-4006-9328-91af90afa1c0",
   "metadata": {
    "tags": []
   },
   "source": [
    "print(data.tail(10))"
   ]
  },
  {
   "cell_type": "code",
   "execution_count": 17,
   "id": "8ce8479d-51a6-4c3e-a988-6f10bec970f0",
   "metadata": {
    "tags": []
   },
   "outputs": [],
   "source": [
    "import numpy as np\n",
    "data_all[\"Sentiment\"] = np.where(data_all[\"Rating\"] == 5, \"Positive\" , \"Negative\")"
   ]
  },
  {
   "cell_type": "code",
   "execution_count": 18,
   "id": "14de43a2",
   "metadata": {
    "tags": []
   },
   "outputs": [],
   "source": [
    "data_all = data_all.sample(frac = 1)\n",
    "data_all = data_all.reset_index(drop = True)"
   ]
  },
  {
   "cell_type": "code",
   "execution_count": 19,
   "id": "bec61471-2d1f-4507-a912-fff9214e5b89",
   "metadata": {
    "tags": []
   },
   "outputs": [
    {
     "data": {
      "text/html": [
       "<div>\n",
       "<style scoped>\n",
       "    .dataframe tbody tr th:only-of-type {\n",
       "        vertical-align: middle;\n",
       "    }\n",
       "\n",
       "    .dataframe tbody tr th {\n",
       "        vertical-align: top;\n",
       "    }\n",
       "\n",
       "    .dataframe thead th {\n",
       "        text-align: right;\n",
       "    }\n",
       "</style>\n",
       "<table border=\"1\" class=\"dataframe\">\n",
       "  <thead>\n",
       "    <tr style=\"text-align: right;\">\n",
       "      <th></th>\n",
       "      <th>Review</th>\n",
       "      <th>Rating</th>\n",
       "      <th>Sentiment</th>\n",
       "    </tr>\n",
       "  </thead>\n",
       "  <tbody>\n",
       "    <tr>\n",
       "      <th>0</th>\n",
       "      <td>conveniently located, feel bit mean giving 2 r...</td>\n",
       "      <td>2</td>\n",
       "      <td>Negative</td>\n",
       "    </tr>\n",
       "    <tr>\n",
       "      <th>1</th>\n",
       "      <td>not 5 star, husband stayed paradisus 5 days 4 ...</td>\n",
       "      <td>2</td>\n",
       "      <td>Negative</td>\n",
       "    </tr>\n",
       "    <tr>\n",
       "      <th>2</th>\n",
       "      <td>hated checked early, travel extensively time d...</td>\n",
       "      <td>1</td>\n",
       "      <td>Negative</td>\n",
       "    </tr>\n",
       "    <tr>\n",
       "      <th>3</th>\n",
       "      <td>prieto tours joke theres no way rate hotel ave...</td>\n",
       "      <td>1</td>\n",
       "      <td>Negative</td>\n",
       "    </tr>\n",
       "    <tr>\n",
       "      <th>4</th>\n",
       "      <td>shock, say..very disapointed, wife traveled pu...</td>\n",
       "      <td>1</td>\n",
       "      <td>Negative</td>\n",
       "    </tr>\n",
       "  </tbody>\n",
       "</table>\n",
       "</div>"
      ],
      "text/plain": [
       "                                              Review  Rating Sentiment\n",
       "0  conveniently located, feel bit mean giving 2 r...       2  Negative\n",
       "1  not 5 star, husband stayed paradisus 5 days 4 ...       2  Negative\n",
       "2  hated checked early, travel extensively time d...       1  Negative\n",
       "3  prieto tours joke theres no way rate hotel ave...       1  Negative\n",
       "4  shock, say..very disapointed, wife traveled pu...       1  Negative"
      ]
     },
     "execution_count": 19,
     "metadata": {},
     "output_type": "execute_result"
    }
   ],
   "source": [
    "data_all.head()"
   ]
  },
  {
   "cell_type": "code",
   "execution_count": 20,
   "id": "1c16d6c1-6a75-444a-a2d6-0ebba8f4ba6d",
   "metadata": {},
   "outputs": [
    {
     "data": {
      "text/html": [
       "<div>\n",
       "<style scoped>\n",
       "    .dataframe tbody tr th:only-of-type {\n",
       "        vertical-align: middle;\n",
       "    }\n",
       "\n",
       "    .dataframe tbody tr th {\n",
       "        vertical-align: top;\n",
       "    }\n",
       "\n",
       "    .dataframe thead th {\n",
       "        text-align: right;\n",
       "    }\n",
       "</style>\n",
       "<table border=\"1\" class=\"dataframe\">\n",
       "  <thead>\n",
       "    <tr style=\"text-align: right;\">\n",
       "      <th></th>\n",
       "      <th>Review</th>\n",
       "      <th>Rating</th>\n",
       "      <th>Sentiment</th>\n",
       "    </tr>\n",
       "  </thead>\n",
       "  <tbody>\n",
       "    <tr>\n",
       "      <th>6424</th>\n",
       "      <td>hated group trip 11, think rooms disgusting be...</td>\n",
       "      <td>2</td>\n",
       "      <td>Negative</td>\n",
       "    </tr>\n",
       "    <tr>\n",
       "      <th>6425</th>\n",
       "      <td>suberb boutiuqe luxury hotel 41 hotel delightf...</td>\n",
       "      <td>5</td>\n",
       "      <td>Positive</td>\n",
       "    </tr>\n",
       "    <tr>\n",
       "      <th>6426</th>\n",
       "      <td>worst trip, place terrible, purto sucko, place...</td>\n",
       "      <td>1</td>\n",
       "      <td>Negative</td>\n",
       "    </tr>\n",
       "    <tr>\n",
       "      <th>6427</th>\n",
       "      <td>cheap not worth bedbugs cheap, definitely hear...</td>\n",
       "      <td>1</td>\n",
       "      <td>Negative</td>\n",
       "    </tr>\n",
       "    <tr>\n",
       "      <th>6428</th>\n",
       "      <td>great city hilton hilton simply wonderful, loc...</td>\n",
       "      <td>5</td>\n",
       "      <td>Positive</td>\n",
       "    </tr>\n",
       "  </tbody>\n",
       "</table>\n",
       "</div>"
      ],
      "text/plain": [
       "                                                 Review  Rating Sentiment\n",
       "6424  hated group trip 11, think rooms disgusting be...       2  Negative\n",
       "6425  suberb boutiuqe luxury hotel 41 hotel delightf...       5  Positive\n",
       "6426  worst trip, place terrible, purto sucko, place...       1  Negative\n",
       "6427  cheap not worth bedbugs cheap, definitely hear...       1  Negative\n",
       "6428  great city hilton hilton simply wonderful, loc...       5  Positive"
      ]
     },
     "execution_count": 20,
     "metadata": {},
     "output_type": "execute_result"
    }
   ],
   "source": [
    "data_all.tail()"
   ]
  },
  {
   "cell_type": "markdown",
   "id": "e58d8e3c-e737-4091-bed6-4a980da5b9b3",
   "metadata": {},
   "source": [
    "**Split The Data**"
   ]
  },
  {
   "cell_type": "code",
   "execution_count": 21,
   "id": "dad1b20d-fc15-4b28-a719-f1e056916e5b",
   "metadata": {
    "tags": []
   },
   "outputs": [],
   "source": [
    "from sklearn.model_selection import train_test_split\n",
    "x_train, x_test, y_train, y_test = train_test_split(data_all.Review, data_all.Sentiment)"
   ]
  },
  {
   "cell_type": "code",
   "execution_count": 22,
   "id": "a5c594eb-713c-4b05-b47e-28e0994e8227",
   "metadata": {
    "tags": []
   },
   "outputs": [],
   "source": [
    "v = CountVectorizer()\n",
    "x_train_vec = v.fit_transform(x_train)\n",
    "x_test_vec = v.transform(x_test)"
   ]
  },
  {
   "cell_type": "markdown",
   "id": "2b6df78d-75cb-4cdc-8fc8-60f8126afc88",
   "metadata": {},
   "source": [
    "**Classification Model**\n"
   ]
  },
  {
   "cell_type": "markdown",
   "id": "3f9e2cae-a76a-4bec-b93a-76cd0835a8b1",
   "metadata": {},
   "source": [
    "**Support Vector Machine**"
   ]
  },
  {
   "cell_type": "code",
   "execution_count": 42,
   "id": "bbd78fb0-6b05-4815-8f73-fc41d572d022",
   "metadata": {
    "tags": []
   },
   "outputs": [
    {
     "data": {
      "text/html": [
       "<style>#sk-container-id-1 {color: black;background-color: white;}#sk-container-id-1 pre{padding: 0;}#sk-container-id-1 div.sk-toggleable {background-color: white;}#sk-container-id-1 label.sk-toggleable__label {cursor: pointer;display: block;width: 100%;margin-bottom: 0;padding: 0.3em;box-sizing: border-box;text-align: center;}#sk-container-id-1 label.sk-toggleable__label-arrow:before {content: \"▸\";float: left;margin-right: 0.25em;color: #696969;}#sk-container-id-1 label.sk-toggleable__label-arrow:hover:before {color: black;}#sk-container-id-1 div.sk-estimator:hover label.sk-toggleable__label-arrow:before {color: black;}#sk-container-id-1 div.sk-toggleable__content {max-height: 0;max-width: 0;overflow: hidden;text-align: left;background-color: #f0f8ff;}#sk-container-id-1 div.sk-toggleable__content pre {margin: 0.2em;color: black;border-radius: 0.25em;background-color: #f0f8ff;}#sk-container-id-1 input.sk-toggleable__control:checked~div.sk-toggleable__content {max-height: 200px;max-width: 100%;overflow: auto;}#sk-container-id-1 input.sk-toggleable__control:checked~label.sk-toggleable__label-arrow:before {content: \"▾\";}#sk-container-id-1 div.sk-estimator input.sk-toggleable__control:checked~label.sk-toggleable__label {background-color: #d4ebff;}#sk-container-id-1 div.sk-label input.sk-toggleable__control:checked~label.sk-toggleable__label {background-color: #d4ebff;}#sk-container-id-1 input.sk-hidden--visually {border: 0;clip: rect(1px 1px 1px 1px);clip: rect(1px, 1px, 1px, 1px);height: 1px;margin: -1px;overflow: hidden;padding: 0;position: absolute;width: 1px;}#sk-container-id-1 div.sk-estimator {font-family: monospace;background-color: #f0f8ff;border: 1px dotted black;border-radius: 0.25em;box-sizing: border-box;margin-bottom: 0.5em;}#sk-container-id-1 div.sk-estimator:hover {background-color: #d4ebff;}#sk-container-id-1 div.sk-parallel-item::after {content: \"\";width: 100%;border-bottom: 1px solid gray;flex-grow: 1;}#sk-container-id-1 div.sk-label:hover label.sk-toggleable__label {background-color: #d4ebff;}#sk-container-id-1 div.sk-serial::before {content: \"\";position: absolute;border-left: 1px solid gray;box-sizing: border-box;top: 0;bottom: 0;left: 50%;z-index: 0;}#sk-container-id-1 div.sk-serial {display: flex;flex-direction: column;align-items: center;background-color: white;padding-right: 0.2em;padding-left: 0.2em;position: relative;}#sk-container-id-1 div.sk-item {position: relative;z-index: 1;}#sk-container-id-1 div.sk-parallel {display: flex;align-items: stretch;justify-content: center;background-color: white;position: relative;}#sk-container-id-1 div.sk-item::before, #sk-container-id-1 div.sk-parallel-item::before {content: \"\";position: absolute;border-left: 1px solid gray;box-sizing: border-box;top: 0;bottom: 0;left: 50%;z-index: -1;}#sk-container-id-1 div.sk-parallel-item {display: flex;flex-direction: column;z-index: 1;position: relative;background-color: white;}#sk-container-id-1 div.sk-parallel-item:first-child::after {align-self: flex-end;width: 50%;}#sk-container-id-1 div.sk-parallel-item:last-child::after {align-self: flex-start;width: 50%;}#sk-container-id-1 div.sk-parallel-item:only-child::after {width: 0;}#sk-container-id-1 div.sk-dashed-wrapped {border: 1px dashed gray;margin: 0 0.4em 0.5em 0.4em;box-sizing: border-box;padding-bottom: 0.4em;background-color: white;}#sk-container-id-1 div.sk-label label {font-family: monospace;font-weight: bold;display: inline-block;line-height: 1.2em;}#sk-container-id-1 div.sk-label-container {text-align: center;}#sk-container-id-1 div.sk-container {/* jupyter's `normalize.less` sets `[hidden] { display: none; }` but bootstrap.min.css set `[hidden] { display: none !important; }` so we also need the `!important` here to be able to override the default hidden behavior on the sphinx rendered scikit-learn.org. See: https://github.com/scikit-learn/scikit-learn/issues/21755 */display: inline-block !important;position: relative;}#sk-container-id-1 div.sk-text-repr-fallback {display: none;}</style><div id=\"sk-container-id-1\" class=\"sk-top-container\"><div class=\"sk-text-repr-fallback\"><pre>SVC(kernel=&#x27;linear&#x27;)</pre><b>In a Jupyter environment, please rerun this cell to show the HTML representation or trust the notebook. <br />On GitHub, the HTML representation is unable to render, please try loading this page with nbviewer.org.</b></div><div class=\"sk-container\" hidden><div class=\"sk-item\"><div class=\"sk-estimator sk-toggleable\"><input class=\"sk-toggleable__control sk-hidden--visually\" id=\"sk-estimator-id-1\" type=\"checkbox\" checked><label for=\"sk-estimator-id-1\" class=\"sk-toggleable__label sk-toggleable__label-arrow\">SVC</label><div class=\"sk-toggleable__content\"><pre>SVC(kernel=&#x27;linear&#x27;)</pre></div></div></div></div></div>"
      ],
      "text/plain": [
       "SVC(kernel='linear')"
      ]
     },
     "execution_count": 42,
     "metadata": {},
     "output_type": "execute_result"
    }
   ],
   "source": [
    "from sklearn import svm\n",
    "SVM =svm.SVC(kernel = \"linear\")\n",
    "SVM.fit(x_train_vec, y_train)"
   ]
  },
  {
   "cell_type": "code",
   "execution_count": 43,
   "id": "15733825-c84b-4c02-9a86-f92a2e9ca350",
   "metadata": {
    "tags": []
   },
   "outputs": [
    {
     "data": {
      "text/plain": [
       "0.9508706467661692"
      ]
     },
     "execution_count": 43,
     "metadata": {},
     "output_type": "execute_result"
    }
   ],
   "source": [
    "SVM.score(x_test_vec, y_test)"
   ]
  },
  {
   "cell_type": "code",
   "execution_count": 52,
   "id": "fae3d8c3-7b94-476d-8f21-9655b7d30f77",
   "metadata": {
    "tags": []
   },
   "outputs": [],
   "source": [
    "from sklearn.metrics import f1_score\n",
    "f1_svm = f1_score(y_test,SVM.predict(x_test_vec), average = None)"
   ]
  },
  {
   "cell_type": "code",
   "execution_count": 54,
   "id": "e602887c-fd4a-445b-95da-6c9a9fb36a94",
   "metadata": {
    "tags": []
   },
   "outputs": [
    {
     "data": {
      "text/plain": [
       "array(['Positive'], dtype=object)"
      ]
     },
     "execution_count": 54,
     "metadata": {},
     "output_type": "execute_result"
    }
   ],
   "source": [
    "review1 = [\"unique, great stay, wonderful time hotel monaco, location excellent short stroll main downtown shopping area, pet friendly room showed no signs animal hair smells, monaco suite sleeping area big striped curtains pulled closed nice touch felt cosy, goldfish named brandi enjoyed, did n't partake free wine coffee/tea service lobby thought great feature, great staff friendly, free wireless internet hotel worked suite 2 laptops, decor lovely eclectic mix pattens color palatte, animal print bathrobes feel like rock stars, nice did n't look like sterile chain hotel hotel personality excellent stay.\"]\n",
    "review1_vec = v.transform(review1)\n",
    "SVM.predict(review1_vec)"
   ]
  },
  {
   "cell_type": "code",
   "execution_count": 55,
   "id": "8879469e-7b61-4896-a3e9-8d64038ed041",
   "metadata": {
    "tags": []
   },
   "outputs": [
    {
     "data": {
      "text/plain": [
       "array(['Negative'], dtype=object)"
      ]
     },
     "execution_count": 55,
     "metadata": {},
     "output_type": "execute_result"
    }
   ],
   "source": [
    "review1 = [\"stay did not care hotel, expecting cozy trendy room sadly disappointed tiny run-down room strange odor, bed practically floor level afraid head pillow, no warmth room just bare necessities, feel better place money not mention 30.00 mandatory valet parking,  \"]\n",
    "review1_vec = v.transform(review1)\n",
    "SVM.predict(review1_vec)"
   ]
  },
  {
   "cell_type": "markdown",
   "id": "6e785043-bc82-4dd6-bf5f-2cd9bba27344",
   "metadata": {},
   "source": [
    "**Naives Bayes**"
   ]
  },
  {
   "cell_type": "code",
   "execution_count": 32,
   "id": "1fd886b5-2a29-4bcd-8afa-0865e8abdeae",
   "metadata": {
    "tags": []
   },
   "outputs": [],
   "source": [
    "from sklearn.model_selection import train_test_split\n",
    "from sklearn.feature_extraction.text import CountVectorizer\n",
    "from sklearn.naive_bayes import MultinomialNB\n",
    "from sklearn.metrics import accuracy_score, classification_report\n",
    "\n",
    "# Build the Naive Bayes classifier\n",
    "nb_classifier = MultinomialNB()\n",
    "nb_classifier.fit(x_train_vec, y_train)\n",
    "\n",
    "# Predict sentiment labels on the testing set\n",
    "y_pred = nb_classifier.predict(x_test_vec)"
   ]
  },
  {
   "cell_type": "code",
   "execution_count": 33,
   "id": "086e89ec-44a2-4aec-a3a2-fbde520f54ca",
   "metadata": {
    "tags": []
   },
   "outputs": [
    {
     "name": "stdout",
     "output_type": "stream",
     "text": [
      "Accuracy: 0.9558457711442786\n"
     ]
    }
   ],
   "source": [
    "# Accuracy\n",
    "accuracy = accuracy_score(y_test, y_pred)\n",
    "print(\"Accuracy:\", accuracy)"
   ]
  },
  {
   "cell_type": "code",
   "execution_count": 34,
   "id": "8ab46db3-5b3e-4506-ad71-5d7f52823253",
   "metadata": {
    "tags": []
   },
   "outputs": [
    {
     "data": {
      "text/plain": [
       "array(['Negative'], dtype='<U8')"
      ]
     },
     "execution_count": 34,
     "metadata": {},
     "output_type": "execute_result"
    }
   ],
   "source": [
    "review2 = [\"poor value stayed monaco seattle july, nice hotel priced 100- 150 night not, hotel takes beating quotient, experience simply average, nothing exceptional paying 300+ n't ca n't terribly disappointed, wife stayed nicest suites 200/night felt like overpaying, best advice shop, quality-wise league average marriott nice best western,  \"]\n",
    "review2_vec = v.transform(review2)\n",
    "nb_classifier.predict(review2_vec)"
   ]
  },
  {
   "cell_type": "markdown",
   "id": "901d985b-3b9f-4b05-8ad6-8255d3827713",
   "metadata": {
    "tags": []
   },
   "source": [
    "**Random Forest**"
   ]
  },
  {
   "cell_type": "code",
   "execution_count": 83,
   "id": "2cbbe4ad-8299-4d03-bc3a-56b8df1ebfbb",
   "metadata": {
    "tags": []
   },
   "outputs": [],
   "source": [
    "from sklearn.ensemble import RandomForestClassifier\n",
    "from sklearn.feature_extraction.text import CountVectorizer\n",
    "from sklearn.metrics import accuracy_score, classification_report\n",
    "\n",
    "rf_classifier = RandomForestClassifier(n_estimators=100, random_state=42)\n",
    "rf_classifier.fit(x_train_vec, y_train)\n",
    "y_pred = rf_classifier.predict(x_test_vec)"
   ]
  },
  {
   "cell_type": "code",
   "execution_count": 84,
   "id": "52de2855-9fb6-490d-ab9f-8e307de742c7",
   "metadata": {
    "tags": []
   },
   "outputs": [
    {
     "name": "stdout",
     "output_type": "stream",
     "text": [
      "Accuracy: 0.9432348367029549\n"
     ]
    }
   ],
   "source": [
    "# Accuracy\n",
    "accuracy = accuracy_score(y_test, y_pred)\n",
    "print(\"Accuracy:\", accuracy)"
   ]
  },
  {
   "cell_type": "code",
   "execution_count": 31,
   "id": "66164e78-8e67-4389-b3a5-2e9130e1af59",
   "metadata": {
    "tags": []
   },
   "outputs": [
    {
     "ename": "NameError",
     "evalue": "name 'nb_classifier' is not defined",
     "output_type": "error",
     "traceback": [
      "\u001b[1;31m---------------------------------------------------------------------------\u001b[0m",
      "\u001b[1;31mNameError\u001b[0m                                 Traceback (most recent call last)",
      "Cell \u001b[1;32mIn[31], line 3\u001b[0m\n\u001b[0;32m      1\u001b[0m review3 \u001b[38;5;241m=\u001b[39m [\u001b[38;5;124m\"\u001b[39m\u001b[38;5;124mpoor value stayed monaco seattle july, nice hotel priced 100- 150 night not, hotel takes beating quotient, experience simply average, nothing exceptional paying 300+ n\u001b[39m\u001b[38;5;124m'\u001b[39m\u001b[38;5;124mt ca n\u001b[39m\u001b[38;5;124m'\u001b[39m\u001b[38;5;124mt terribly disappointed, wife stayed nicest suites 200/night felt like overpaying, best advice shop, quality-wise league average marriott nice best western,  \u001b[39m\u001b[38;5;124m\"\u001b[39m]\n\u001b[0;32m      2\u001b[0m review3_vec \u001b[38;5;241m=\u001b[39m v\u001b[38;5;241m.\u001b[39mtransform(review3)\n\u001b[1;32m----> 3\u001b[0m nb_classifier\u001b[38;5;241m.\u001b[39mpredict(review3_vec)\n",
      "\u001b[1;31mNameError\u001b[0m: name 'nb_classifier' is not defined"
     ]
    }
   ],
   "source": [
    "review3 = [\"poor value stayed monaco seattle july, nice hotel priced 100- 150 night not, hotel takes beating quotient, experience simply average, nothing exceptional paying 300+ n't ca n't terribly disappointed, wife stayed nicest suites 200/night felt like overpaying, best advice shop, quality-wise league average marriott nice best western,  \"]\n",
    "review3_vec = v.transform(review3)\n",
    "nb_classifier.predict(review3_vec)"
   ]
  },
  {
   "cell_type": "markdown",
   "id": "d4f43dec-23ff-4aa1-997a-611f27d8078d",
   "metadata": {
    "tags": []
   },
   "source": [
    "**Logistics Regression**"
   ]
  },
  {
   "cell_type": "code",
   "execution_count": 85,
   "id": "2d5dd742-6bea-4dbb-9a99-871dd043cc5e",
   "metadata": {
    "tags": []
   },
   "outputs": [],
   "source": [
    "from sklearn.linear_model import LogisticRegression\n",
    "from sklearn.feature_extraction.text import CountVectorizer\n",
    "from sklearn.metrics import accuracy_score, classification_report\n",
    "\n",
    "x_train, x_test, y_train, y_test = train_test_split(data_all['Review'], data_all['Sentiment'], test_size=0.2, random_state=50)\n",
    "\n",
    "logreg_model = LogisticRegression()\n",
    "logreg_model.fit(x_train_vec, y_train)\n",
    "\n",
    "y_pred = logreg_model.predict(x_test_vec)"
   ]
  },
  {
   "cell_type": "code",
   "execution_count": 86,
   "id": "5af26cd2-487c-4f0e-b876-bf54bc728790",
   "metadata": {
    "tags": []
   },
   "outputs": [
    {
     "name": "stdout",
     "output_type": "stream",
     "text": [
      "Accuracy: 0.9572317262830482\n"
     ]
    }
   ],
   "source": [
    "# Evaluate the model\n",
    "accuracy = accuracy_score(y_test, y_pred)\n",
    "print(\"Accuracy:\", accuracy)"
   ]
  },
  {
   "cell_type": "markdown",
   "id": "2ece1ceb-6cb0-426b-b7a2-8b714c2e80a2",
   "metadata": {
    "tags": []
   },
   "source": [
    "**Gradient Boosting**"
   ]
  },
  {
   "cell_type": "code",
   "execution_count": 87,
   "id": "a4a2d560-b338-4fd2-b544-106fa465ab48",
   "metadata": {
    "tags": []
   },
   "outputs": [],
   "source": [
    "from sklearn.ensemble import GradientBoostingClassifier\n",
    "from sklearn.feature_extraction.text import CountVectorizer\n",
    "from sklearn.metrics import accuracy_score, classification_report\n",
    "\n",
    "gb_classifier = GradientBoostingClassifier()\n",
    "gb_classifier.fit(x_train_vec, y_train)\n",
    "\n",
    "y_pred = gb_classifier.predict(x_test_vec)"
   ]
  },
  {
   "cell_type": "code",
   "execution_count": 88,
   "id": "4e7ca678-c1a1-4283-b082-ca427775c325",
   "metadata": {
    "tags": []
   },
   "outputs": [
    {
     "name": "stdout",
     "output_type": "stream",
     "text": [
      "Accuracy: 0.9144634525660964\n"
     ]
    }
   ],
   "source": [
    "# Accuracy\n",
    "accuracy = accuracy_score(y_test, y_pred)\n",
    "print(\"Accuracy:\", accuracy)"
   ]
  },
  {
   "cell_type": "markdown",
   "id": "c0e495c6-496c-4620-b416-3e848814e497",
   "metadata": {},
   "source": [
    "**KNN**"
   ]
  },
  {
   "cell_type": "code",
   "execution_count": 23,
   "id": "ca6b385a-aed1-41df-96bd-eedd5442a2a9",
   "metadata": {
    "tags": []
   },
   "outputs": [],
   "source": [
    "from sklearn.feature_extraction.text import CountVectorizer\n",
    "from sklearn.neighbors import KNeighborsClassifier\n",
    "from sklearn.metrics import accuracy_score, classification_report\n",
    "\n",
    "knn_classifier = KNeighborsClassifier(n_neighbors=5)  # You can adjust the number of neighbors\n",
    "knn_classifier.fit(x_train_vec, y_train)\n",
    "\n",
    "# Predict sentiment labels on the testing set\n",
    "y_pred = knn_classifier.predict(x_test_vec)"
   ]
  },
  {
   "cell_type": "code",
   "execution_count": 24,
   "id": "f4ed0db6-ae9d-411e-a0fd-df1e6606fb5e",
   "metadata": {
    "tags": []
   },
   "outputs": [
    {
     "name": "stdout",
     "output_type": "stream",
     "text": [
      "Accuracy: 0.7885572139303483\n"
     ]
    }
   ],
   "source": [
    "# Evaluate the model\n",
    "accuracy = accuracy_score(y_test, y_pred)\n",
    "print(\"Accuracy:\", accuracy)"
   ]
  },
  {
   "cell_type": "code",
   "execution_count": 30,
   "id": "82451bd0-3ba7-42f4-a335-33d56bfed9a7",
   "metadata": {
    "tags": []
   },
   "outputs": [
    {
     "data": {
      "image/png": "[encoded data removed]",
      "text/plain": [
       "<Figure size 800x600 with 1 Axes>"
      ]
     },
     "metadata": {},
     "output_type": "display_data"
    }
   ],
   "source": [
    "accuracy_nb = 0.96 \n",
    "accuracy_rf = 0.94\n",
    "accuracy_logreg = 0.95\n",
    "accuracy_gb=0.91\n",
    "accuracy_SVM=0.95\n",
    "accuracy_knn = 0.78\n",
    "\n",
    "model_names = ['Naive Bayes', 'Random Forest','Logistic Regression','Gradient Boosting','Support Vector Machine','KNN']\n",
    "accuracies = [accuracy_nb, accuracy_rf , accuracy_logreg, accuracy_gb, accuracy_SVM, accuracy_knn]\n",
    "\n",
    "plt.figure(figsize=(8, 6))\n",
    "plt.bar(model_names, accuracies, color=['Red','Orange','Violet', 'cyan', 'Indigo', 'black'])\n",
    "plt.xlabel('Classification Models')\n",
    "plt.ylabel('Accuracy')\n",
    "plt.title('Accuracy Comparison of Classification Models')\n",
    "plt.ylim(0, 1) \n",
    "plt.show()\n"
   ]
  },
  {
   "cell_type": "code",
   "execution_count": null,
   "id": "ce8eba57-a7b4-45a4-8690-1f42735b7ca7",
   "metadata": {},
   "outputs": [],
   "source": []
  },
  {
   "cell_type": "code",
   "execution_count": null,
   "id": "1a0ec6c7-f019-4c6a-86bd-4a3ed12015c8",
   "metadata": {},
   "outputs": [],
   "source": []
  }
 ],
 "metadata": {
  "kernelspec": {
   "display_name": "Python 3 (ipykernel)",
   "language": "python",
   "name": "python3"
  },
  "language_info": {
   "codemirror_mode": {
    "name": "ipython",
    "version": 3
   },
   "file_extension": ".py",
   "mimetype": "text/x-python",
   "name": "python",
   "nbconvert_exporter": "python",
   "pygments_lexer": "ipython3",
   "version": "3.11.3"
  }
 },
 "nbformat": 4,
 "nbformat_minor": 5
}
